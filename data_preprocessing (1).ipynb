{
 "cells": [
  {
   "cell_type": "markdown",
   "metadata": {},
   "source": [
    "# Data Preprocessing for DREAMT Dataset\n",
    "This notebook handles biosignal cleaning, normalization, and windowing for downstream modeling.\n",
    "Dataset Source: PhysioNet DREAMT (64Hz wearable data)\n"
   ]
  },
  {
   "cell_type": "code",
   "execution_count": null,
   "metadata": {},
   "outputs": [],
   "source": [
    "import pandas as pd\n",
    "import numpy as np\n",
    "import matplotlib.pyplot as plt\n",
    "import seaborn as sns\n",
    "from scipy.signal import butter, filtfilt\n",
    "\n",
    "# Load example data (update path as needed)\n",
    "df = pd.read_csv('../data/S002_whole_df.csv')\n",
    "df.head()"
   ]
  },
  {
   "cell_type": "code",
   "execution_count": null,
   "metadata": {},
   "outputs": [],
   "source": [
    "# Normalize biosignals\n",
    "def normalize_signal(signal):\n",
    "    return (signal - np.mean(signal)) / np.std(signal)\n",
    "\n",
    "# Example: Normalize BVP\n",
    "df['BVP_norm'] = normalize_signal(df['BVP'])\n",
    "\n",
    "# Plot raw vs normalized BVP\n",
    "plt.figure(figsize=(12, 4))\n",
    "plt.plot(df['BVP'][:1000], label='Raw')\n",
    "plt.plot(df['BVP_norm'][:1000], label='Normalized')\n",
    "plt.legend()\n",
    "plt.title('BVP Signal (Raw vs Normalized)')\n",
    "plt.show()"
   ]
  },
  {
   "cell_type": "code",
   "execution_count": null,
   "metadata": {},
   "outputs": [],
   "source": [
    "# Define function to create sliding windows\n",
    "def create_windows(data, window_size, step_size):\n",
    "    windows = []\n",
    "    for start in range(0, len(data) - window_size, step_size):\n",
    "        windows.append(data[start:start + window_size])\n",
    "    return np.array(windows)\n",
    "\n",
    "# Example on BVP\n",
    "bvp_windows = create_windows(df['BVP_norm'].values, window_size=512, step_size=128)\n",
    "print(f'Generated {bvp_windows.shape[0]} windows of length {bvp_windows.shape[1]}')"
   ]
  }
 ],
 "metadata": {
  "kernelspec": {
   "display_name": "Python 3",
   "language": "python",
   "name": "python3"
  },
  "language_info": {
   "name": "python",
   "version": "3.8"
  }
 },
 "nbformat": 4,
 "nbformat_minor": 2
}
